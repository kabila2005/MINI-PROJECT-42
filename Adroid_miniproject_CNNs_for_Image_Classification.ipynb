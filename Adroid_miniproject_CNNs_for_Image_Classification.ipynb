{
  "metadata": {
    "kernelspec": {
      "language": "python",
      "display_name": "Python 3",
      "name": "python3"
    },
    "language_info": {
      "pygments_lexer": "ipython3",
      "nbconvert_exporter": "python",
      "version": "3.6.4",
      "file_extension": ".py",
      "codemirror_mode": {
        "name": "ipython",
        "version": 3
      },
      "name": "python",
      "mimetype": "text/x-python"
    },
    "kaggle": {
      "accelerator": "nvidiaTeslaT4",
      "dataSources": [
        {
          "sourceId": 9243,
          "sourceType": "datasetVersion",
          "datasetId": 2243
        }
      ],
      "dockerImageVersionId": 30513,
      "isInternetEnabled": false,
      "language": "python",
      "sourceType": "notebook",
      "isGpuEnabled": true
    },
    "colab": {
      "provenance": []
    }
  },
  "nbformat_minor": 0,
  "nbformat": 4,
  "cells": [
    {
      "cell_type": "code",
      "source": [
        "import pandas as pd\n",
        "import numpy as np\n",
        "import warnings\n",
        "warnings.filterwarnings('ignore')\n",
        "import matplotlib.pyplot as plt\n",
        "from sklearn.model_selection import train_test_split\n",
        "import keras\n",
        "from keras.models import Sequential\n",
        "from keras.layers import Conv2D,MaxPooling2D,Dense,Flatten,Dropout\n",
        "from keras.optimizers import Adam\n",
        "from keras.callbacks import TensorBoard\n",
        "num_classes = 10\n",
        "epochs = 20\n"
      ],
      "metadata": {
        "execution": {
          "iopub.status.busy": "2023-07-01T08:19:41.829455Z",
          "iopub.execute_input": "2023-07-01T08:19:41.829852Z",
          "iopub.status.idle": "2023-07-01T08:19:45.399432Z",
          "shell.execute_reply.started": "2023-07-01T08:19:41.829821Z",
          "shell.execute_reply": "2023-07-01T08:19:45.398424Z"
        },
        "trusted": true,
        "id": "P-kGkE_tBdZJ"
      },
      "execution_count": null,
      "outputs": []
    },
    {
      "cell_type": "code",
      "source": [
        "train_df = pd.read_csv('../input/fashionmnist/fashion-mnist_train.csv',sep=',')\n",
        "test_df = pd.read_csv('../input/fashionmnist/fashion-mnist_test.csv', sep = ',')"
      ],
      "metadata": {
        "execution": {
          "iopub.status.busy": "2023-07-01T08:19:45.401373Z",
          "iopub.execute_input": "2023-07-01T08:19:45.402276Z",
          "iopub.status.idle": "2023-07-01T08:19:51.745343Z",
          "shell.execute_reply.started": "2023-07-01T08:19:45.40221Z",
          "shell.execute_reply": "2023-07-01T08:19:51.744251Z"
        },
        "trusted": true,
        "id": "osuenCrXBdZN"
      },
      "execution_count": null,
      "outputs": []
    },
    {
      "cell_type": "code",
      "source": [
        "train_df.head()"
      ],
      "metadata": {
        "execution": {
          "iopub.status.busy": "2023-07-01T08:19:51.746561Z",
          "iopub.execute_input": "2023-07-01T08:19:51.747106Z",
          "iopub.status.idle": "2023-07-01T08:19:51.774424Z",
          "shell.execute_reply.started": "2023-07-01T08:19:51.747073Z",
          "shell.execute_reply": "2023-07-01T08:19:51.773435Z"
        },
        "trusted": true,
        "id": "etNUotpYBdZN"
      },
      "execution_count": null,
      "outputs": []
    },
    {
      "cell_type": "code",
      "source": [
        "train_data = np.array(train_df, dtype = 'float32')\n",
        "test_data = np.array(test_df, dtype='float32')"
      ],
      "metadata": {
        "execution": {
          "iopub.status.busy": "2023-07-01T08:19:51.776992Z",
          "iopub.execute_input": "2023-07-01T08:19:51.777983Z",
          "iopub.status.idle": "2023-07-01T08:19:51.948912Z",
          "shell.execute_reply.started": "2023-07-01T08:19:51.777946Z",
          "shell.execute_reply": "2023-07-01T08:19:51.947873Z"
        },
        "trusted": true,
        "id": "HDLVz7vlBdZP"
      },
      "execution_count": null,
      "outputs": []
    },
    {
      "cell_type": "code",
      "source": [
        "x_train = train_data[:,1:]/255\n",
        "\n",
        "y_train = train_data[:,0]\n",
        "\n",
        "x_test= test_data[:,1:]/255\n",
        "\n",
        "y_test=test_data[:,0]"
      ],
      "metadata": {
        "execution": {
          "iopub.status.busy": "2023-07-01T08:19:51.950445Z",
          "iopub.execute_input": "2023-07-01T08:19:51.950907Z",
          "iopub.status.idle": "2023-07-01T08:19:52.018647Z",
          "shell.execute_reply.started": "2023-07-01T08:19:51.950871Z",
          "shell.execute_reply": "2023-07-01T08:19:52.017606Z"
        },
        "trusted": true,
        "id": "ropcJuIaBdZQ"
      },
      "execution_count": null,
      "outputs": []
    },
    {
      "cell_type": "code",
      "source": [
        "x_train,x_validate,y_train,y_validate = train_test_split(x_train,y_train,test_size = 0.2,random_state = 42)"
      ],
      "metadata": {
        "execution": {
          "iopub.status.busy": "2023-07-01T08:19:52.021108Z",
          "iopub.execute_input": "2023-07-01T08:19:52.022308Z",
          "iopub.status.idle": "2023-07-01T08:19:52.539252Z",
          "shell.execute_reply.started": "2023-07-01T08:19:52.022267Z",
          "shell.execute_reply": "2023-07-01T08:19:52.53822Z"
        },
        "trusted": true,
        "id": "jQZkvMvjBdZR"
      },
      "execution_count": null,
      "outputs": []
    },
    {
      "cell_type": "code",
      "source": [
        "class_names = ['T_shirt/top', 'Trouser', 'Pullover', 'Dress', 'Coat',\n",
        "               'Sandal', 'Shirt', 'Sneaker', 'Bag', 'Ankle boot']\n",
        "plt.figure(figsize=(10, 10))\n",
        "for i in range(36):\n",
        "    plt.subplot(6, 6, i + 1)\n",
        "    plt.xticks([])\n",
        "    plt.yticks([])\n",
        "    plt.grid(False)\n",
        "    plt.imshow(x_train[i].reshape((28,28)))\n",
        "    label_index = int(y_train[i])\n",
        "    plt.title(class_names[label_index])\n",
        "plt.show()"
      ],
      "metadata": {
        "execution": {
          "iopub.status.busy": "2023-07-01T08:19:52.540779Z",
          "iopub.execute_input": "2023-07-01T08:19:52.541302Z",
          "iopub.status.idle": "2023-07-01T08:19:54.57173Z",
          "shell.execute_reply.started": "2023-07-01T08:19:52.541264Z",
          "shell.execute_reply": "2023-07-01T08:19:54.570794Z"
        },
        "trusted": true,
        "id": "UFyeCl4_BdZR"
      },
      "execution_count": null,
      "outputs": []
    },
    {
      "cell_type": "code",
      "source": [
        "image_rows = 28\n",
        "image_cols = 28\n",
        "batch_size = 4096\n",
        "image_shape = (image_rows,image_cols,1)"
      ],
      "metadata": {
        "execution": {
          "iopub.status.busy": "2023-07-01T08:19:54.572768Z",
          "iopub.execute_input": "2023-07-01T08:19:54.573114Z",
          "iopub.status.idle": "2023-07-01T08:19:54.578323Z",
          "shell.execute_reply.started": "2023-07-01T08:19:54.573083Z",
          "shell.execute_reply": "2023-07-01T08:19:54.577407Z"
        },
        "trusted": true,
        "id": "I-zvVbjnBdZT"
      },
      "execution_count": null,
      "outputs": []
    },
    {
      "cell_type": "code",
      "source": [
        "x_train = x_train.reshape(x_train.shape[0],*image_shape)\n",
        "x_test = x_test.reshape(x_test.shape[0],*image_shape)\n",
        "x_validate = x_validate.reshape(x_validate.shape[0],*image_shape)\n"
      ],
      "metadata": {
        "execution": {
          "iopub.status.busy": "2023-07-01T08:19:54.58034Z",
          "iopub.execute_input": "2023-07-01T08:19:54.581048Z",
          "iopub.status.idle": "2023-07-01T08:19:54.59567Z",
          "shell.execute_reply.started": "2023-07-01T08:19:54.581016Z",
          "shell.execute_reply": "2023-07-01T08:19:54.594493Z"
        },
        "trusted": true,
        "id": "FhQ8EY5NBdZT"
      },
      "execution_count": null,
      "outputs": []
    },
    {
      "cell_type": "code",
      "source": [
        "# Create a Sequential model\n",
        "cnn_model = Sequential([\n",
        "    Conv2D(filters=32, kernel_size=3, activation='relu', input_shape=image_shape),\n",
        "    # Add a convolutional layer with 32 filters, each having a 3x3 kernel size\n",
        "    # Apply ReLU activation function to introduce non-linearity\n",
        "    # Specify the input shape of the first layer as 'image_shape'\n",
        "\n",
        "    MaxPooling2D(pool_size=2),\n",
        "    # Add a max pooling layer to downsample the output by taking the maximum value in each 2x2 region\n",
        "    # Reduces the spatial dimensions, resulting in a 14x14 output\n",
        "\n",
        "    Dropout(0.2),\n",
        "    # Add a dropout layer to randomly disable 20% of the neurons during training\n",
        "    # Helps prevent overfitting by reducing co-adaptation between neurons\n",
        "\n",
        "    Flatten(),\n",
        "    # Flatten the multi-dimensional output into a 1-dimensional vector\n",
        "    # Converts the output into a suitable format for feeding into a fully connected layer\n",
        "\n",
        "    Dense(32, activation='relu'),\n",
        "    # Add a fully connected layer with 32 units/neurons\n",
        "    # Apply ReLU activation function to introduce non-linearity\n",
        "\n",
        "    Dense(10, activation='softmax')\n",
        "    # Add a final fully connected layer with 10 units/neurons (corresponding to the number of classes)\n",
        "    # Apply softmax activation function to obtain class probabilities\n",
        "])\n"
      ],
      "metadata": {
        "execution": {
          "iopub.status.busy": "2023-07-01T08:19:54.60021Z",
          "iopub.execute_input": "2023-07-01T08:19:54.600607Z",
          "iopub.status.idle": "2023-07-01T08:19:57.371062Z",
          "shell.execute_reply.started": "2023-07-01T08:19:54.600578Z",
          "shell.execute_reply": "2023-07-01T08:19:57.370092Z"
        },
        "trusted": true,
        "id": "LAgtonInBdZU"
      },
      "execution_count": null,
      "outputs": []
    },
    {
      "cell_type": "code",
      "source": [
        "cnn_model.compile(loss ='sparse_categorical_crossentropy', optimizer=Adam(lr=0.001),metrics =['accuracy'])"
      ],
      "metadata": {
        "execution": {
          "iopub.status.busy": "2023-07-01T08:19:57.372892Z",
          "iopub.execute_input": "2023-07-01T08:19:57.373292Z",
          "iopub.status.idle": "2023-07-01T08:19:57.393074Z",
          "shell.execute_reply.started": "2023-07-01T08:19:57.373254Z",
          "shell.execute_reply": "2023-07-01T08:19:57.391977Z"
        },
        "trusted": true,
        "id": "6calDujvBdZW"
      },
      "execution_count": null,
      "outputs": []
    },
    {
      "cell_type": "code",
      "source": [
        "cnn_model.summary()"
      ],
      "metadata": {
        "execution": {
          "iopub.status.busy": "2023-07-01T08:19:57.394513Z",
          "iopub.execute_input": "2023-07-01T08:19:57.39511Z",
          "iopub.status.idle": "2023-07-01T08:19:57.420124Z",
          "shell.execute_reply.started": "2023-07-01T08:19:57.39507Z",
          "shell.execute_reply": "2023-07-01T08:19:57.419293Z"
        },
        "trusted": true,
        "id": "nUgF-LgUBdZX"
      },
      "execution_count": null,
      "outputs": []
    },
    {
      "cell_type": "code",
      "source": [
        "%%time\n",
        "history = cnn_model.fit(\n",
        "    x_train,\n",
        "    y_train,\n",
        "    batch_size=4096,\n",
        "    epochs=75,\n",
        "    verbose=1,\n",
        "    validation_data=(x_validate,y_validate),\n",
        ")"
      ],
      "metadata": {
        "_kg_hide-output": true,
        "execution": {
          "iopub.status.busy": "2023-07-01T08:19:57.421275Z",
          "iopub.execute_input": "2023-07-01T08:19:57.421673Z",
          "iopub.status.idle": "2023-07-01T08:21:20.297128Z",
          "shell.execute_reply.started": "2023-07-01T08:19:57.421635Z",
          "shell.execute_reply": "2023-07-01T08:21:20.295606Z"
        },
        "trusted": true,
        "id": "qcJgqGsqBdZX"
      },
      "execution_count": null,
      "outputs": []
    },
    {
      "cell_type": "code",
      "source": [
        "plt.figure(figsize=(10, 10))\n",
        "\n",
        "plt.subplot(2, 2, 1)\n",
        "plt.plot(history.history['loss'], label='Loss')\n",
        "plt.plot(history.history['val_loss'], label='Validation Loss')\n",
        "plt.legend()\n",
        "plt.title('Training - Loss Function')\n",
        "\n",
        "plt.subplot(2, 2, 2)\n",
        "plt.plot(history.history['accuracy'], label='Accuracy')\n",
        "plt.plot(history.history['val_accuracy'], label='Validation Accuracy')\n",
        "plt.legend()\n",
        "plt.title('Train - Accuracy')"
      ],
      "metadata": {
        "execution": {
          "iopub.status.busy": "2023-07-01T08:21:20.299183Z",
          "iopub.execute_input": "2023-07-01T08:21:20.299636Z",
          "iopub.status.idle": "2023-07-01T08:21:20.908512Z",
          "shell.execute_reply.started": "2023-07-01T08:21:20.299597Z",
          "shell.execute_reply": "2023-07-01T08:21:20.907301Z"
        },
        "trusted": true,
        "id": "j64OnG6wBdZY"
      },
      "execution_count": null,
      "outputs": []
    },
    {
      "cell_type": "code",
      "source": [
        "score = cnn_model.evaluate(x_test,y_test,verbose=0)\n",
        "print('Test Accuracy : {:.2f}'.format(score[1]*100) + '%')"
      ],
      "metadata": {
        "execution": {
          "iopub.status.busy": "2023-07-01T08:21:20.91021Z",
          "iopub.execute_input": "2023-07-01T08:21:20.910601Z",
          "iopub.status.idle": "2023-07-01T08:21:21.79004Z",
          "shell.execute_reply.started": "2023-07-01T08:21:20.910569Z",
          "shell.execute_reply": "2023-07-01T08:21:21.788933Z"
        },
        "trusted": true,
        "id": "itdfsMGFBdZr"
      },
      "execution_count": null,
      "outputs": []
    },
    {
      "cell_type": "code",
      "source": [
        "predicted_probabilities = cnn_model.predict(x_test)\n",
        "predicted_classes = np.argmax(predicted_probabilities, axis=1)\n",
        "\n",
        "L = 5\n",
        "W = 5\n",
        "fig, axes = plt.subplots(L, W, figsize = (12,12))\n",
        "axes = axes.ravel()\n",
        "\n",
        "for i in np.arange(0, L * W):\n",
        "    axes[i].imshow(x_test[i].reshape(28,28))\n",
        "    axes[i].set_title(f\"Prediction Class = {predicted_classes[i]:0.1f}\\n Original Class = {y_test[i]:0.1f}\")\n",
        "    axes[i].axis('off')\n",
        "\n",
        "plt.subplots_adjust(wspace=0.5)"
      ],
      "metadata": {
        "execution": {
          "iopub.status.busy": "2023-07-01T08:21:21.791396Z",
          "iopub.execute_input": "2023-07-01T08:21:21.792517Z",
          "iopub.status.idle": "2023-07-01T08:21:26.010969Z",
          "shell.execute_reply.started": "2023-07-01T08:21:21.792479Z",
          "shell.execute_reply": "2023-07-01T08:21:26.010048Z"
        },
        "trusted": true,
        "id": "d-fjEvOvBdZs"
      },
      "execution_count": null,
      "outputs": []
    }
  ]
}